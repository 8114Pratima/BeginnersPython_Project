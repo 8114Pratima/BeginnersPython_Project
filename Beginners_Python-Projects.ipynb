{
 "cells": [
  {
   "cell_type": "markdown",
   "id": "77bffd22",
   "metadata": {},
   "source": [
    "# 1. Rock Paper Scissors"
   ]
  },
  {
   "cell_type": "markdown",
   "id": "db1cddec",
   "metadata": {},
   "source": [
    "This rock paper scissors program uses a number of functions so this is a good way of getting that critical concept under your belt.\n",
    "\n",
    "Random function: to generate rock, paper, or scissors.\n",
    "Valid function: to check the validity of the move.\n",
    "Result function: to declare the winner of the round.\n",
    "Scorekeeper: to keep track of the score.\n",
    "The program requires the user to make the first move before it makes a move. The input could be a string or an alphabet representing either rock, paper, or scissors. After evaluating the input string, a winner is decided by the result function and the score of the round is updated by the scorekeeper function."
   ]
  },
  {
   "cell_type": "code",
   "execution_count": 10,
   "id": "5374af90",
   "metadata": {},
   "outputs": [
    {
     "name": "stdout",
     "output_type": "stream",
     "text": [
      "Enter a choice (rock, paper, scissors): rock\n",
      "\n",
      "You chose rock, computer chose rock.\n",
      "\n",
      "Both players selected rock. It's a tie!\n"
     ]
    }
   ],
   "source": [
    "import random\n",
    "\n",
    "user_action = input(\"Enter a choice (rock, paper, scissors): \")\n",
    "possible_actions = [\"rock\", \"paper\", \"scissors\"]\n",
    "computer_action = random.choice(possible_actions)\n",
    "print(f\"\\nYou chose {user_action}, computer chose {computer_action}.\\n\")\n",
    "\n",
    "if user_action == computer_action:\n",
    "    print(f\"Both players selected {user_action}. It's a tie!\")\n",
    "elif user_action == \"rock\":\n",
    "    if computer_action == \"scissors\":\n",
    "        print(\"Rock smashes scissors! You win!\")\n",
    "    else:\n",
    "        print(\"Paper covers rock! You lose.\")\n",
    "elif user_action == \"paper\":\n",
    "    if computer_action == \"rock\":\n",
    "        print(\"Paper covers rock! You win!\")\n",
    "    else:\n",
    "        print(\"Scissors cuts paper! You lose.\")\n",
    "elif user_action == \"scissors\":\n",
    "    if computer_action == \"paper\":\n",
    "        print(\"Scissors cuts paper! You win!\")\n",
    "    else:\n",
    "        print(\"Rock smashes scissors! You lose.\")"
   ]
  },
  {
   "cell_type": "markdown",
   "id": "3255ba69",
   "metadata": {},
   "source": [
    "# 2. Dice Roll Generator\n",
    "\n",
    "\n",
    "This dice roll generator is a fairly simple program that makes use of the random function to simulate dice rolls. You can change the maximum value to any number, making it possible to simulate polyhedral dice used in many board games and roleplaying games."
   ]
  },
  {
   "cell_type": "code",
   "execution_count": 24,
   "id": "3ec223cc",
   "metadata": {},
   "outputs": [],
   "source": [
    "# dice.py\n",
    "\n",
    "def parse_input(input_string):\n",
    "    \"\"\"Return `input_string` as an integer between 1 and 6.\n",
    "\n",
    "    Check if `input_string` is an integer number between 1 and 6.\n",
    "    If so, return an integer with the same value. Otherwise, tell\n",
    "    the user to enter a valid number and quit the program.\n",
    "    \"\"\"\n",
    "    if input_string.strip() in {\"1\", \"2\", \"3\", \"4\", \"5\", \"6\"}:\n",
    "        return int(input_string)\n",
    "    else:\n",
    "        print(\"Please enter a number from 1 to 6.\")\n",
    "        raise SystemExit(1)\n",
    "\n",
    "# ~~~ App's main code block ~~~\n",
    "# ..."
   ]
  },
  {
   "cell_type": "code",
   "execution_count": 14,
   "id": "306267e2",
   "metadata": {},
   "outputs": [
    {
     "name": "stdout",
     "output_type": "stream",
     "text": [
      "You rolled: [4, 3]\n"
     ]
    }
   ],
   "source": [
    "import random\n",
    "\n",
    "def roll_dice(num_dice, num_sides):\n",
    "    \"\"\"Rolls a specified number of dice with a specified number of sides.\n",
    "\n",
    "    Args:\n",
    "        num_dice (int): The number of dice to roll.\n",
    "        num_sides (int): The number of sides on each die.\n",
    "\n",
    "    Returns:\n",
    "        list: A list of integers representing the results of each die roll.\n",
    "    \"\"\"\n",
    "    rolls = [random.randint(1, num_sides) for _ in range(num_dice)]\n",
    "    return rolls\n",
    "\n",
    "# Example usage:\n",
    "dice_rolls = roll_dice(2, 6)\n",
    "print(f\"You rolled: {dice_rolls}\")\n"
   ]
  },
  {
   "cell_type": "code",
   "execution_count": 21,
   "id": "bc95fa02",
   "metadata": {},
   "outputs": [
    {
     "name": "stdout",
     "output_type": "stream",
     "text": [
      "You rolled a 2\n"
     ]
    }
   ],
   "source": [
    "import random\n",
    "\n",
    "# generate a random number between 1 and 6 (inclusive)\n",
    "dice_roll = random.randint(1, 6)\n",
    "\n",
    "# print the result\n",
    "print(\"You rolled a\", dice_roll)"
   ]
  },
  {
   "cell_type": "code",
   "execution_count": 22,
   "id": "4eeb1d54",
   "metadata": {},
   "outputs": [
    {
     "name": "stdout",
     "output_type": "stream",
     "text": [
      "You rolled: [2, 3, 2]\n"
     ]
    }
   ],
   "source": [
    "import random\n",
    "\n",
    "num_dice = 3\n",
    "\n",
    "# roll the dice and store the results in a list\n",
    "dice_rolls = [random.randint(1, 6) for i in range(num_dice)]\n",
    "\n",
    "# print the results\n",
    "print(\"You rolled:\", dice_rolls)\n"
   ]
  },
  {
   "cell_type": "markdown",
   "id": "ffe4d475",
   "metadata": {},
   "source": [
    "# 3. Calculator\n",
    "\n",
    "This project teaches you to design a graphical interface and is a good way to get familiar with a library like Tkinter. This library lets you create buttons to perform different operations and display results on the screen."
   ]
  },
  {
   "cell_type": "code",
   "execution_count": 26,
   "id": "a09941ac",
   "metadata": {},
   "outputs": [
    {
     "name": "stdout",
     "output_type": "stream",
     "text": [
      "Enter the first number: 45\n",
      "Enter the second number: 76\n",
      "Enter the operation (+, -, *, /): /\n",
      "45.0 / 76.0 = 0.5921052631578947\n"
     ]
    }
   ],
   "source": [
    "def calculator():\n",
    "    \"\"\"Prompts the user for two numbers and an operation, and performs the operation on the numbers.\"\"\"\n",
    "    num1 = float(input(\"Enter the first number: \"))\n",
    "    num2 = float(input(\"Enter the second number: \"))\n",
    "    op = input(\"Enter the operation (+, -, *, /): \")\n",
    "\n",
    "    if op == \"+\":\n",
    "        result = num1 + num2\n",
    "    elif op == \"-\":\n",
    "        result = num1 - num2\n",
    "    elif op == \"*\":\n",
    "        result = num1 * num2\n",
    "    elif op == \"/\":\n",
    "        if num2 == 0:\n",
    "            print(\"Error: division by zero!\")\n",
    "            return\n",
    "        result = num1 / num2\n",
    "    else:\n",
    "        print(\"Error: invalid operation!\")\n",
    "        return\n",
    "\n",
    "    print(f\"{num1} {op} {num2} = {result}\")\n",
    "\n",
    "# Example usage:\n",
    "calculator()\n"
   ]
  },
  {
   "cell_type": "code",
   "execution_count": null,
   "id": "ced467b8",
   "metadata": {},
   "outputs": [],
   "source": []
  }
 ],
 "metadata": {
  "kernelspec": {
   "display_name": "Python 3 (ipykernel)",
   "language": "python",
   "name": "python3"
  },
  "language_info": {
   "codemirror_mode": {
    "name": "ipython",
    "version": 3
   },
   "file_extension": ".py",
   "mimetype": "text/x-python",
   "name": "python",
   "nbconvert_exporter": "python",
   "pygments_lexer": "ipython3",
   "version": "3.11.0"
  }
 },
 "nbformat": 4,
 "nbformat_minor": 5
}
